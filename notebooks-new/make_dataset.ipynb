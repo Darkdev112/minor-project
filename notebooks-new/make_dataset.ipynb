{
 "cells": [
  {
   "cell_type": "code",
   "execution_count": 61,
   "id": "6f466efc-4339-4fe7-9dac-d3c4d616a665",
   "metadata": {},
   "outputs": [],
   "source": [
    "import os\n",
    "import xarray as xr\n",
    "import numpy as np\n",
    "import pandas as pd\n",
    "from datetime import datetime\n",
    "from sklearn.preprocessing import MinMaxScaler\n",
    "from prophet.plot import plot_plotly,plot_components_plotly\n",
    "from prophet import Prophet"
   ]
  },
  {
   "cell_type": "code",
   "execution_count": 43,
   "id": "27934f08-e23f-44ba-9138-a863e36e0009",
   "metadata": {},
   "outputs": [],
   "source": [
    "def calc_index(given_lat,given_lon):\n",
    "    lon_index = int(((np.floor(given_lon/0.625) * 0.625) - (-180))/0.625)\n",
    "    lon_index = 0 if lon_index == 576 else lon_index\n",
    "    lat_index = int(((np.floor(given_lat/0.5) * 0.5) - (-90))/0.5)\n",
    "    return lat_index,lon_index"
   ]
  },
  {
   "cell_type": "code",
   "execution_count": 44,
   "id": "5eb965ae-7d48-405c-a432-2ecc0a6ae8a8",
   "metadata": {},
   "outputs": [],
   "source": [
    "def get_conc(folder_name,lat_index,lon_index):\n",
    "    conc_column = np.empty((0,),dtype='float32')\n",
    "    data_folder = os.listdir(f'../data/{folder_name}')\n",
    "    for data_file in data_folder:\n",
    "        data = xr.open_dataset(f\"../data/{folder_name}/{data_file}\")\n",
    "        if folder_name == 'aqi1':\n",
    "            code = 'DUSMASS'\n",
    "        elif folder_name == 'aqi2':\n",
    "            code = 'COSC'\n",
    "        elif folder_name == 'aqi3':\n",
    "            code = 'TO3'\n",
    "        else:\n",
    "            code = 'Invalid'\n",
    "        conc_data = np.array(data[code].values)[0]\n",
    "        conc_val = conc_data[lat_index][lon_index]\n",
    "        conc_column = np.append(conc_column,conc_val)\n",
    "    return conc_column"
   ]
  },
  {
   "cell_type": "code",
   "execution_count": 45,
   "id": "5ec8b064-997f-49ad-b731-d74fce62122f",
   "metadata": {},
   "outputs": [],
   "source": [
    "date_column = pd.date_range(start='1/1/2005',end='12/1/2023',freq='MS')"
   ]
  },
  {
   "cell_type": "code",
   "execution_count": 46,
   "id": "6ac31018-0691-4d2c-9198-70f564337736",
   "metadata": {
    "scrolled": true
   },
   "outputs": [],
   "source": [
    "given_lat= -20.296059\n",
    "given_lon= -85.824539\n",
    "lat_index,lon_index = calc_index(given_lat,given_lon)"
   ]
  },
  {
   "cell_type": "code",
   "execution_count": 47,
   "id": "861e883b-ca6d-4452-8a44-738695cdc809",
   "metadata": {},
   "outputs": [],
   "source": [
    "pm_conc = get_conc('aqi1',lat_index,lon_index)\n",
    "co_conc = get_conc('aqi2',lat_index,lon_index)\n",
    "o3_conc = get_conc('aqi3',lat_index,lon_index)"
   ]
  },
  {
   "cell_type": "code",
   "execution_count": 48,
   "id": "0d7c4943-bf97-4d8b-8279-20379910dd56",
   "metadata": {},
   "outputs": [],
   "source": [
    "pm_conc = pm_conc * 1e9            # 1 kg/m^3 = 1e9 ug/m^3\n",
    "co_conc = co_conc * 1.15 * 1e-3    # 1ppb = 1.15 * 1e-3 mg/m^3 for CO\n",
    "o3_conc = o3_conc * 0.1            # 10 percent of total ozone column"
   ]
  },
  {
   "cell_type": "code",
   "execution_count": 54,
   "id": "d69ff4a2-42ad-4358-9ff9-1c9a96ccc344",
   "metadata": {},
   "outputs": [],
   "source": [
    "def calc_aqi(pm_conc,co_conc,o3_conc):\n",
    "    min_aqi = [0,51,101,201,301,401]\n",
    "    max_aqi = [50,100,200,300,400,500]\n",
    "    min_pm_conc = [0,31,61,91,121,251]\n",
    "    max_pm_conc = [30,60,90,120,250,500]\n",
    "    min_co_conc = [0,1.1,2.1,10.1,17.1,34.1]\n",
    "    max_co_conc = [1,2,10,17,34,50]\n",
    "    min_o3_conc = [0,51,101,169,209,748]\n",
    "    max_o3_conc = [50,100,168,208,747,1000]\n",
    "    \n",
    "    # pm_aqi calculation\n",
    "    i=0\n",
    "    pm_aqi = np.full(len(pm_conc),0,dtype=float)\n",
    "    for pm_val in pm_conc:\n",
    "        for index,min_pm_val in enumerate(min_pm_conc):\n",
    "            if pm_val > min_pm_val:\n",
    "                pm_aqi[i] = ( (max_aqi[index] - min_aqi[index])/(max_pm_conc[index]-min_pm_val) ) * (pm_val - min_pm_val) + min_aqi[index]\n",
    "            else :\n",
    "                break\n",
    "        i = i+1\n",
    "\n",
    "    # co_aqi calculation\n",
    "    i=0\n",
    "    co_aqi = np.full(len(co_conc),0,dtype=float)\n",
    "    for co_val in co_conc:\n",
    "        for index,min_co_val in enumerate(min_co_conc):\n",
    "            if co_val > min_co_val:\n",
    "                co_aqi[i] = ( (max_aqi[index] - min_aqi[index])/(max_co_conc[index]-min_co_val) ) * (co_val - min_co_val) + min_aqi[index]\n",
    "            else :\n",
    "                break\n",
    "        i = i+1\n",
    "\n",
    "    # o3_aqi calculation\n",
    "    i=0\n",
    "    o3_aqi = np.full(len(o3_conc),0,dtype=float)\n",
    "    for o3_val in o3_conc:\n",
    "        for index,min_o3_val in enumerate(min_o3_conc):\n",
    "            if o3_val > min_o3_val:\n",
    "                o3_aqi[i] = ( (max_aqi[index] - min_aqi[index])/(max_o3_conc[index]-min_o3_val) ) * (o3_val - min_o3_val) + min_aqi[index]\n",
    "            else : \n",
    "                break\n",
    "        i = i+1 \n",
    "\n",
    "    aqi = np.maximum(pm_aqi,np.maximum(co_aqi,o3_aqi))\n",
    "    return aqi"
   ]
  },
  {
   "cell_type": "code",
   "execution_count": null,
   "id": "36cd03fa-63e9-482e-b32b-cec5716b7aa6",
   "metadata": {},
   "outputs": [],
   "source": [
    "aqi = calc_aqi(pm_conc,co_conc,o3_conc)"
   ]
  },
  {
   "cell_type": "code",
   "execution_count": 55,
   "id": "886599b6-0e40-4d0f-a2b3-72f7d1db64b7",
   "metadata": {},
   "outputs": [],
   "source": [
    "df = pd.DataFrame({'pm_conc' : pm_conc, 'co_conc' : co_conc,'o3_conc' : o3_conc, 'aqi' : aqi}, index=date_column)"
   ]
  },
  {
   "cell_type": "code",
   "execution_count": 56,
   "id": "157ce6db-8810-4141-b111-b015dc1b2f5b",
   "metadata": {},
   "outputs": [
    {
     "data": {
      "text/html": [
       "<div>\n",
       "<style scoped>\n",
       "    .dataframe tbody tr th:only-of-type {\n",
       "        vertical-align: middle;\n",
       "    }\n",
       "\n",
       "    .dataframe tbody tr th {\n",
       "        vertical-align: top;\n",
       "    }\n",
       "\n",
       "    .dataframe thead th {\n",
       "        text-align: right;\n",
       "    }\n",
       "</style>\n",
       "<table border=\"1\" class=\"dataframe\">\n",
       "  <thead>\n",
       "    <tr style=\"text-align: right;\">\n",
       "      <th></th>\n",
       "      <th>pm_conc</th>\n",
       "      <th>co_conc</th>\n",
       "      <th>o3_conc</th>\n",
       "      <th>aqi</th>\n",
       "    </tr>\n",
       "  </thead>\n",
       "  <tbody>\n",
       "    <tr>\n",
       "      <th>2005-01-01</th>\n",
       "      <td>0.898526</td>\n",
       "      <td>0.046183</td>\n",
       "      <td>25.747099</td>\n",
       "      <td>25.747099</td>\n",
       "    </tr>\n",
       "    <tr>\n",
       "      <th>2005-02-01</th>\n",
       "      <td>1.123116</td>\n",
       "      <td>0.047751</td>\n",
       "      <td>25.734440</td>\n",
       "      <td>25.734440</td>\n",
       "    </tr>\n",
       "    <tr>\n",
       "      <th>2005-03-01</th>\n",
       "      <td>0.574732</td>\n",
       "      <td>0.045283</td>\n",
       "      <td>24.883772</td>\n",
       "      <td>24.883772</td>\n",
       "    </tr>\n",
       "    <tr>\n",
       "      <th>2005-04-01</th>\n",
       "      <td>0.939783</td>\n",
       "      <td>0.050202</td>\n",
       "      <td>25.288557</td>\n",
       "      <td>25.288557</td>\n",
       "    </tr>\n",
       "    <tr>\n",
       "      <th>2005-05-01</th>\n",
       "      <td>0.275568</td>\n",
       "      <td>0.049818</td>\n",
       "      <td>25.438364</td>\n",
       "      <td>25.438364</td>\n",
       "    </tr>\n",
       "    <tr>\n",
       "      <th>...</th>\n",
       "      <td>...</td>\n",
       "      <td>...</td>\n",
       "      <td>...</td>\n",
       "      <td>...</td>\n",
       "    </tr>\n",
       "    <tr>\n",
       "      <th>2023-08-01</th>\n",
       "      <td>0.501248</td>\n",
       "      <td>0.054879</td>\n",
       "      <td>27.092701</td>\n",
       "      <td>27.092701</td>\n",
       "    </tr>\n",
       "    <tr>\n",
       "      <th>2023-09-01</th>\n",
       "      <td>0.419525</td>\n",
       "      <td>0.058896</td>\n",
       "      <td>28.963110</td>\n",
       "      <td>28.963110</td>\n",
       "    </tr>\n",
       "    <tr>\n",
       "      <th>2023-10-01</th>\n",
       "      <td>0.512932</td>\n",
       "      <td>0.063099</td>\n",
       "      <td>28.883856</td>\n",
       "      <td>28.883856</td>\n",
       "    </tr>\n",
       "    <tr>\n",
       "      <th>2023-11-01</th>\n",
       "      <td>0.542980</td>\n",
       "      <td>0.059093</td>\n",
       "      <td>28.340376</td>\n",
       "      <td>28.340376</td>\n",
       "    </tr>\n",
       "    <tr>\n",
       "      <th>2023-12-01</th>\n",
       "      <td>0.865320</td>\n",
       "      <td>0.053065</td>\n",
       "      <td>27.171469</td>\n",
       "      <td>27.171469</td>\n",
       "    </tr>\n",
       "  </tbody>\n",
       "</table>\n",
       "<p>228 rows × 4 columns</p>\n",
       "</div>"
      ],
      "text/plain": [
       "             pm_conc   co_conc    o3_conc        aqi\n",
       "2005-01-01  0.898526  0.046183  25.747099  25.747099\n",
       "2005-02-01  1.123116  0.047751  25.734440  25.734440\n",
       "2005-03-01  0.574732  0.045283  24.883772  24.883772\n",
       "2005-04-01  0.939783  0.050202  25.288557  25.288557\n",
       "2005-05-01  0.275568  0.049818  25.438364  25.438364\n",
       "...              ...       ...        ...        ...\n",
       "2023-08-01  0.501248  0.054879  27.092701  27.092701\n",
       "2023-09-01  0.419525  0.058896  28.963110  28.963110\n",
       "2023-10-01  0.512932  0.063099  28.883856  28.883856\n",
       "2023-11-01  0.542980  0.059093  28.340376  28.340376\n",
       "2023-12-01  0.865320  0.053065  27.171469  27.171469\n",
       "\n",
       "[228 rows x 4 columns]"
      ]
     },
     "execution_count": 56,
     "metadata": {},
     "output_type": "execute_result"
    }
   ],
   "source": [
    "df"
   ]
  },
  {
   "cell_type": "code",
   "execution_count": 189,
   "id": "fcb6949f-3cc2-499e-b730-ce0a8e972ba7",
   "metadata": {},
   "outputs": [],
   "source": [
    "def forecast_conc(conc_df,exact_date):\n",
    "    conc_df['datetime'] = conc_df.index.astype('str')\n",
    "    conc_df = conc_df[['datetime','conc']]\n",
    "    conc_df.reset_index(drop=True, inplace=True)\n",
    "    conc_df.columns=['ds','y']\n",
    "    \n",
    "    scaler = MinMaxScaler()\n",
    "    conc_df['y'] = scaler.fit_transform(np.array(conc_df[['y']]))\n",
    "    conc_df\n",
    "    \n",
    "    pro_model = Prophet(interval_width=0.95)\n",
    "    pro_model.fit(conc_df)\n",
    "\n",
    "    ref_date = datetime(2024,1,1)\n",
    "    periods = (exact_date.year - ref_date.year) * 12 + exact_date.month + 1 - ref_date.month \n",
    "    future_date = pro_model.make_future_dataframe(periods, freq='MS')\n",
    "    \n",
    "    forecast = pro_model.predict(future_date)\n",
    "    predicted_df = forecast[['ds','yhat']]\n",
    "    predicted_df.columns=['ds','conc']\n",
    "    # print(predicted_df.loc[predicted_df.index >= 228,['conc']])\n",
    "    # np.array(predicted_df.loc[predicted_df.index >= 228,['conc']])\n",
    "    predicted_df['conc'] = scaler.inverse_transform(predicted_df[['conc']])\n",
    "    print(predicted_df)\n",
    "    return predicted_df[predicted_df['ds'] == exact_date.date()].conc"
   ]
  },
  {
   "cell_type": "code",
   "execution_count": 190,
   "id": "7eaada2b-e799-4c26-a3d0-41126f33aff4",
   "metadata": {},
   "outputs": [
    {
     "name": "stderr",
     "output_type": "stream",
     "text": [
      "05:45:03 - cmdstanpy - INFO - Chain [1] start processing\n",
      "05:45:03 - cmdstanpy - INFO - Chain [1] done processing\n"
     ]
    },
    {
     "name": "stdout",
     "output_type": "stream",
     "text": [
      "            ds      conc\n",
      "0   2005-01-01  0.917397\n",
      "1   2005-02-01  0.798378\n",
      "2   2005-03-01  0.663061\n",
      "3   2005-04-01  0.619188\n",
      "4   2005-05-01  0.447051\n",
      "..         ...       ...\n",
      "239 2024-12-01  1.260943\n",
      "240 2025-01-01  1.299704\n",
      "241 2025-02-01  1.181323\n",
      "242 2025-03-01  1.046581\n",
      "243 2025-04-01  1.003345\n",
      "\n",
      "[244 rows x 2 columns]\n"
     ]
    },
    {
     "name": "stderr",
     "output_type": "stream",
     "text": [
      "C:\\Users\\ASUS\\AppData\\Local\\Temp\\ipykernel_13464\\3367509547.py:23: SettingWithCopyWarning: \n",
      "A value is trying to be set on a copy of a slice from a DataFrame.\n",
      "Try using .loc[row_indexer,col_indexer] = value instead\n",
      "\n",
      "See the caveats in the documentation: https://pandas.pydata.org/pandas-docs/stable/user_guide/indexing.html#returning-a-view-versus-a-copy\n",
      "  predicted_df['conc'] = scaler.inverse_transform(predicted_df[['conc']])\n"
     ]
    },
    {
     "data": {
      "text/plain": [
       "Series([], Name: conc, dtype: float64)"
      ]
     },
     "execution_count": 190,
     "metadata": {},
     "output_type": "execute_result"
    }
   ],
   "source": [
    "exact_date = datetime(2025,4,1)\n",
    "\n",
    "pm_conc_df = df.loc[:,['pm_conc']]\n",
    "pm_conc_df.columns=['conc']\n",
    "\n",
    "forecast_conc(pm_conc_df, exact_date)"
   ]
  }
 ],
 "metadata": {
  "kernelspec": {
   "display_name": "Python 3 (ipykernel)",
   "language": "python",
   "name": "python3"
  },
  "language_info": {
   "codemirror_mode": {
    "name": "ipython",
    "version": 3
   },
   "file_extension": ".py",
   "mimetype": "text/x-python",
   "name": "python",
   "nbconvert_exporter": "python",
   "pygments_lexer": "ipython3",
   "version": "3.12.2"
  }
 },
 "nbformat": 4,
 "nbformat_minor": 5
}
