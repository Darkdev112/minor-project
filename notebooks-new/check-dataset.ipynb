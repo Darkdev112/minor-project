{
 "cells": [
  {
   "cell_type": "code",
   "execution_count": 30,
   "id": "6f466efc-4339-4fe7-9dac-d3c4d616a665",
   "metadata": {},
   "outputs": [],
   "source": [
    "import os\n",
    "import xarray as xr\n",
    "import numpy as np\n",
    "import pandas as pd\n",
    "from sklearn.preprocessing import MinMaxScaler\n",
    "from prophet.plot import plot_plotly,plot_components_plotly\n",
    "from prophet import Prophet"
   ]
  },
  {
   "cell_type": "code",
   "execution_count": 31,
   "id": "27934f08-e23f-44ba-9138-a863e36e0009",
   "metadata": {},
   "outputs": [],
   "source": [
    "def calc_index(given_lat,given_lon):\n",
    "    lon_index = int(((np.floor(given_lon/0.625) * 0.625) - (-180))/0.625)\n",
    "    lon_index = 0 if lon_index == 576 else lon_index\n",
    "    lat_index = int(((np.floor(given_lat/0.5) * 0.5) - (-90))/0.5)\n",
    "    return lat_index,lon_index"
   ]
  },
  {
   "cell_type": "code",
   "execution_count": 32,
   "id": "5eb965ae-7d48-405c-a432-2ecc0a6ae8a8",
   "metadata": {},
   "outputs": [],
   "source": [
    "def get_conc(folder_name,lat_index,lon_index):\n",
    "    conc_column = np.empty((0,),dtype='float32')\n",
    "    data_folder = os.listdir(f'../data/{folder_name}')\n",
    "    for data_file in data_folder:\n",
    "        data = xr.open_dataset(f\"../data/{folder_name}/{data_file}\")\n",
    "        if folder_name == 'aqi1':\n",
    "            code = 'DUSMASS25'\n",
    "        elif folder_name == 'aqi2':\n",
    "            code = 'COSC'\n",
    "        elif folder_name == 'aqi3':\n",
    "            code = 'TO3'\n",
    "        else:\n",
    "            code = 'Invalid'\n",
    "        conc_data = np.array(data[code].values)[0]\n",
    "        conc_val = conc_data[lat_index][lon_index]\n",
    "        conc_column = np.append(conc_column,conc_val)\n",
    "    return conc_column"
   ]
  },
  {
   "cell_type": "code",
   "execution_count": 33,
   "id": "5ec8b064-997f-49ad-b731-d74fce62122f",
   "metadata": {},
   "outputs": [],
   "source": [
    "date_column = pd.date_range(start='1/1/2005',end='12/1/2023',freq='MS')"
   ]
  },
  {
   "cell_type": "code",
   "execution_count": 34,
   "id": "6ac31018-0691-4d2c-9198-70f564337736",
   "metadata": {
    "scrolled": true
   },
   "outputs": [],
   "source": [
    "given_lat= -20.296059\n",
    "given_lon= -85.824539\n",
    "lat_index,lon_index = calc_index(given_lat,given_lon)"
   ]
  },
  {
   "cell_type": "code",
   "execution_count": 35,
   "id": "861e883b-ca6d-4452-8a44-738695cdc809",
   "metadata": {},
   "outputs": [],
   "source": [
    "ppm_conc = get_conc('aqi1',lat_index,lon_index)\n",
    "co_conc = get_conc('aqi2',lat_index,lon_index)\n",
    "o3_conc = get_conc('aqi3',lat_index,lon_index)"
   ]
  },
  {
   "cell_type": "code",
   "execution_count": 36,
   "id": "886599b6-0e40-4d0f-a2b3-72f7d1db64b7",
   "metadata": {},
   "outputs": [],
   "source": [
    "df = pd.DataFrame({'ppm_conc' : ppm_conc, 'co_conc' : co_conc,'o3_conc' : o3_conc}, index=date_column)"
   ]
  },
  {
   "cell_type": "code",
   "execution_count": 37,
   "id": "157ce6db-8810-4141-b111-b015dc1b2f5b",
   "metadata": {},
   "outputs": [
    {
     "data": {
      "text/html": [
       "<div>\n",
       "<style scoped>\n",
       "    .dataframe tbody tr th:only-of-type {\n",
       "        vertical-align: middle;\n",
       "    }\n",
       "\n",
       "    .dataframe tbody tr th {\n",
       "        vertical-align: top;\n",
       "    }\n",
       "\n",
       "    .dataframe thead th {\n",
       "        text-align: right;\n",
       "    }\n",
       "</style>\n",
       "<table border=\"1\" class=\"dataframe\">\n",
       "  <thead>\n",
       "    <tr style=\"text-align: right;\">\n",
       "      <th></th>\n",
       "      <th>ppm_conc</th>\n",
       "      <th>co_conc</th>\n",
       "      <th>o3_conc</th>\n",
       "    </tr>\n",
       "  </thead>\n",
       "  <tbody>\n",
       "    <tr>\n",
       "      <th>2005-01-01</th>\n",
       "      <td>2.964610e-10</td>\n",
       "      <td>40.159225</td>\n",
       "      <td>257.470978</td>\n",
       "    </tr>\n",
       "    <tr>\n",
       "      <th>2005-02-01</th>\n",
       "      <td>3.785647e-10</td>\n",
       "      <td>41.522316</td>\n",
       "      <td>257.344391</td>\n",
       "    </tr>\n",
       "    <tr>\n",
       "      <th>2005-03-01</th>\n",
       "      <td>1.991675e-10</td>\n",
       "      <td>39.376335</td>\n",
       "      <td>248.837723</td>\n",
       "    </tr>\n",
       "    <tr>\n",
       "      <th>2005-04-01</th>\n",
       "      <td>2.763307e-10</td>\n",
       "      <td>43.654011</td>\n",
       "      <td>252.885559</td>\n",
       "    </tr>\n",
       "    <tr>\n",
       "      <th>2005-05-01</th>\n",
       "      <td>9.221435e-11</td>\n",
       "      <td>43.319599</td>\n",
       "      <td>254.383636</td>\n",
       "    </tr>\n",
       "    <tr>\n",
       "      <th>...</th>\n",
       "      <td>...</td>\n",
       "      <td>...</td>\n",
       "      <td>...</td>\n",
       "    </tr>\n",
       "    <tr>\n",
       "      <th>2023-08-01</th>\n",
       "      <td>1.654894e-10</td>\n",
       "      <td>47.720806</td>\n",
       "      <td>270.927002</td>\n",
       "    </tr>\n",
       "    <tr>\n",
       "      <th>2023-09-01</th>\n",
       "      <td>1.394236e-10</td>\n",
       "      <td>51.214149</td>\n",
       "      <td>289.631104</td>\n",
       "    </tr>\n",
       "    <tr>\n",
       "      <th>2023-10-01</th>\n",
       "      <td>1.826249e-10</td>\n",
       "      <td>54.868431</td>\n",
       "      <td>288.838562</td>\n",
       "    </tr>\n",
       "    <tr>\n",
       "      <th>2023-11-01</th>\n",
       "      <td>1.699754e-10</td>\n",
       "      <td>51.385498</td>\n",
       "      <td>283.403748</td>\n",
       "    </tr>\n",
       "    <tr>\n",
       "      <th>2023-12-01</th>\n",
       "      <td>2.535623e-10</td>\n",
       "      <td>46.143078</td>\n",
       "      <td>271.714691</td>\n",
       "    </tr>\n",
       "  </tbody>\n",
       "</table>\n",
       "<p>228 rows × 3 columns</p>\n",
       "</div>"
      ],
      "text/plain": [
       "                ppm_conc    co_conc     o3_conc\n",
       "2005-01-01  2.964610e-10  40.159225  257.470978\n",
       "2005-02-01  3.785647e-10  41.522316  257.344391\n",
       "2005-03-01  1.991675e-10  39.376335  248.837723\n",
       "2005-04-01  2.763307e-10  43.654011  252.885559\n",
       "2005-05-01  9.221435e-11  43.319599  254.383636\n",
       "...                  ...        ...         ...\n",
       "2023-08-01  1.654894e-10  47.720806  270.927002\n",
       "2023-09-01  1.394236e-10  51.214149  289.631104\n",
       "2023-10-01  1.826249e-10  54.868431  288.838562\n",
       "2023-11-01  1.699754e-10  51.385498  283.403748\n",
       "2023-12-01  2.535623e-10  46.143078  271.714691\n",
       "\n",
       "[228 rows x 3 columns]"
      ]
     },
     "execution_count": 37,
     "metadata": {},
     "output_type": "execute_result"
    }
   ],
   "source": [
    "df"
   ]
  },
  {
   "cell_type": "code",
   "execution_count": null,
   "id": "2287945a-2bc1-454d-9b59-1ae078ae1842",
   "metadata": {},
   "outputs": [],
   "source": []
  }
 ],
 "metadata": {
  "kernelspec": {
   "display_name": "Python 3 (ipykernel)",
   "language": "python",
   "name": "python3"
  },
  "language_info": {
   "codemirror_mode": {
    "name": "ipython",
    "version": 3
   },
   "file_extension": ".py",
   "mimetype": "text/x-python",
   "name": "python",
   "nbconvert_exporter": "python",
   "pygments_lexer": "ipython3",
   "version": "3.12.2"
  }
 },
 "nbformat": 4,
 "nbformat_minor": 5
}
