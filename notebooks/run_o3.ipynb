{
 "cells": [
  {
   "cell_type": "code",
   "execution_count": 2,
   "id": "2d3aed25-5af7-44e4-b63f-1f82d0a87ca2",
   "metadata": {},
   "outputs": [],
   "source": [
    "import h5py\n",
    "dataset = h5py.File('../data/o3.he5','r')"
   ]
  },
  {
   "cell_type": "code",
   "execution_count": 3,
   "id": "f2cb3311-d3c3-44fd-be86-1b07b39a133c",
   "metadata": {},
   "outputs": [
    {
     "data": {
      "text/plain": [
       "['_MutableMapping__marker',\n",
       " '__abstractmethods__',\n",
       " '__bool__',\n",
       " '__class__',\n",
       " '__class_getitem__',\n",
       " '__contains__',\n",
       " '__delattr__',\n",
       " '__delitem__',\n",
       " '__dict__',\n",
       " '__dir__',\n",
       " '__doc__',\n",
       " '__enter__',\n",
       " '__eq__',\n",
       " '__exit__',\n",
       " '__format__',\n",
       " '__ge__',\n",
       " '__getattribute__',\n",
       " '__getitem__',\n",
       " '__getnewargs__',\n",
       " '__getstate__',\n",
       " '__gt__',\n",
       " '__hash__',\n",
       " '__init__',\n",
       " '__init_subclass__',\n",
       " '__iter__',\n",
       " '__le__',\n",
       " '__len__',\n",
       " '__lt__',\n",
       " '__module__',\n",
       " '__ne__',\n",
       " '__new__',\n",
       " '__nonzero__',\n",
       " '__reduce__',\n",
       " '__reduce_ex__',\n",
       " '__repr__',\n",
       " '__reversed__',\n",
       " '__setattr__',\n",
       " '__setitem__',\n",
       " '__sizeof__',\n",
       " '__slots__',\n",
       " '__str__',\n",
       " '__subclasshook__',\n",
       " '__weakref__',\n",
       " '_abc_impl',\n",
       " '_d',\n",
       " '_e',\n",
       " '_gcpl_crt_order',\n",
       " '_id',\n",
       " '_ipython_key_completions_',\n",
       " '_lapl',\n",
       " '_lcpl',\n",
       " '_libver',\n",
       " 'attrs',\n",
       " 'build_virtual_dataset',\n",
       " 'clear',\n",
       " 'close',\n",
       " 'copy',\n",
       " 'create_dataset',\n",
       " 'create_dataset_like',\n",
       " 'create_group',\n",
       " 'create_virtual_dataset',\n",
       " 'driver',\n",
       " 'file',\n",
       " 'filename',\n",
       " 'flush',\n",
       " 'get',\n",
       " 'id',\n",
       " 'items',\n",
       " 'keys',\n",
       " 'libver',\n",
       " 'meta_block_size',\n",
       " 'mode',\n",
       " 'move',\n",
       " 'name',\n",
       " 'parent',\n",
       " 'pop',\n",
       " 'popitem',\n",
       " 'ref',\n",
       " 'regionref',\n",
       " 'require_dataset',\n",
       " 'require_group',\n",
       " 'setdefault',\n",
       " 'swmr_mode',\n",
       " 'update',\n",
       " 'userblock_size',\n",
       " 'values',\n",
       " 'visit',\n",
       " 'visititems']"
      ]
     },
     "execution_count": 3,
     "metadata": {},
     "output_type": "execute_result"
    }
   ],
   "source": [
    "dir(dataset)"
   ]
  },
  {
   "cell_type": "code",
   "execution_count": 4,
   "id": "2da7bfec-1a27-4c0e-99ea-31ef8c5066ca",
   "metadata": {},
   "outputs": [
    {
     "data": {
      "text/plain": [
       "<HDF5 dataset \"ColumnAmountO3\": shape (720, 1440), type \"<f4\">"
      ]
     },
     "execution_count": 4,
     "metadata": {},
     "output_type": "execute_result"
    }
   ],
   "source": [
    "df = dataset.require_dataset('/HDFEOS/GRIDS/OMI Column Amount O3/Data Fields/ColumnAmountO3',shape=(720,1440),dtype='float32')\n",
    "df"
   ]
  },
  {
   "cell_type": "code",
   "execution_count": 5,
   "id": "4a9d00d3-87f9-4ee3-9bff-05165352343f",
   "metadata": {},
   "outputs": [
    {
     "data": {
      "text/plain": [
       "array([[ 2.7120001e+02,  2.7120001e+02,  2.7120001e+02, ...,\n",
       "         2.6650000e+02,  2.6650000e+02,  2.6650000e+02],\n",
       "       [ 2.6679999e+02,  2.6679999e+02,  2.6679999e+02, ...,\n",
       "         2.7139999e+02,  2.7139999e+02,  2.7139999e+02],\n",
       "       [ 2.6879999e+02,  2.6879999e+02,  2.6879999e+02, ...,\n",
       "         2.6850000e+02,  2.6850000e+02,  2.6850000e+02],\n",
       "       ...,\n",
       "       [-1.2676506e+30, -1.2676506e+30, -1.2676506e+30, ...,\n",
       "        -1.2676506e+30, -1.2676506e+30, -1.2676506e+30],\n",
       "       [-1.2676506e+30, -1.2676506e+30, -1.2676506e+30, ...,\n",
       "        -1.2676506e+30, -1.2676506e+30, -1.2676506e+30],\n",
       "       [-1.2676506e+30, -1.2676506e+30, -1.2676506e+30, ...,\n",
       "        -1.2676506e+30, -1.2676506e+30, -1.2676506e+30]], dtype=float32)"
      ]
     },
     "execution_count": 5,
     "metadata": {},
     "output_type": "execute_result"
    }
   ],
   "source": [
    "import numpy as np\n",
    "matrix = np.array(df)\n",
    "matrix"
   ]
  },
  {
   "cell_type": "code",
   "execution_count": null,
   "id": "e5f6a74e-64d1-4191-b5be-e1c0c4b3bc36",
   "metadata": {},
   "outputs": [],
   "source": []
  }
 ],
 "metadata": {
  "kernelspec": {
   "display_name": "Python 3 (ipykernel)",
   "language": "python",
   "name": "python3"
  },
  "language_info": {
   "codemirror_mode": {
    "name": "ipython",
    "version": 3
   },
   "file_extension": ".py",
   "mimetype": "text/x-python",
   "name": "python",
   "nbconvert_exporter": "python",
   "pygments_lexer": "ipython3",
   "version": "3.11.3"
  }
 },
 "nbformat": 4,
 "nbformat_minor": 5
}
