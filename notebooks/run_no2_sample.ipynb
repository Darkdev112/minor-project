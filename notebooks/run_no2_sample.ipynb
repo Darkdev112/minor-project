{
 "cells": [
  {
   "cell_type": "code",
   "execution_count": 6,
   "id": "9e62bcf1-f7be-4875-88b7-bb38d11007ab",
   "metadata": {},
   "outputs": [],
   "source": [
    "import h5py\n",
    "dataset = h5py.File('../data/no2.he5','r')"
   ]
  },
  {
   "cell_type": "code",
   "execution_count": 7,
   "id": "71f425aa-08dd-450e-b74f-7bac9933f4d4",
   "metadata": {},
   "outputs": [
    {
     "data": {
      "text/plain": [
       "['_MutableMapping__marker',\n",
       " '__abstractmethods__',\n",
       " '__bool__',\n",
       " '__class__',\n",
       " '__class_getitem__',\n",
       " '__contains__',\n",
       " '__delattr__',\n",
       " '__delitem__',\n",
       " '__dict__',\n",
       " '__dir__',\n",
       " '__doc__',\n",
       " '__enter__',\n",
       " '__eq__',\n",
       " '__exit__',\n",
       " '__format__',\n",
       " '__ge__',\n",
       " '__getattribute__',\n",
       " '__getitem__',\n",
       " '__getnewargs__',\n",
       " '__getstate__',\n",
       " '__gt__',\n",
       " '__hash__',\n",
       " '__init__',\n",
       " '__init_subclass__',\n",
       " '__iter__',\n",
       " '__le__',\n",
       " '__len__',\n",
       " '__lt__',\n",
       " '__module__',\n",
       " '__ne__',\n",
       " '__new__',\n",
       " '__nonzero__',\n",
       " '__reduce__',\n",
       " '__reduce_ex__',\n",
       " '__repr__',\n",
       " '__reversed__',\n",
       " '__setattr__',\n",
       " '__setitem__',\n",
       " '__sizeof__',\n",
       " '__slots__',\n",
       " '__str__',\n",
       " '__subclasshook__',\n",
       " '__weakref__',\n",
       " '_abc_impl',\n",
       " '_d',\n",
       " '_e',\n",
       " '_gcpl_crt_order',\n",
       " '_id',\n",
       " '_ipython_key_completions_',\n",
       " '_lapl',\n",
       " '_lcpl',\n",
       " '_libver',\n",
       " 'attrs',\n",
       " 'build_virtual_dataset',\n",
       " 'clear',\n",
       " 'close',\n",
       " 'copy',\n",
       " 'create_dataset',\n",
       " 'create_dataset_like',\n",
       " 'create_group',\n",
       " 'create_virtual_dataset',\n",
       " 'driver',\n",
       " 'file',\n",
       " 'filename',\n",
       " 'flush',\n",
       " 'get',\n",
       " 'id',\n",
       " 'items',\n",
       " 'keys',\n",
       " 'libver',\n",
       " 'meta_block_size',\n",
       " 'mode',\n",
       " 'move',\n",
       " 'name',\n",
       " 'parent',\n",
       " 'pop',\n",
       " 'popitem',\n",
       " 'ref',\n",
       " 'regionref',\n",
       " 'require_dataset',\n",
       " 'require_group',\n",
       " 'setdefault',\n",
       " 'swmr_mode',\n",
       " 'update',\n",
       " 'userblock_size',\n",
       " 'values',\n",
       " 'visit',\n",
       " 'visititems']"
      ]
     },
     "execution_count": 7,
     "metadata": {},
     "output_type": "execute_result"
    }
   ],
   "source": [
    "dir(dataset)"
   ]
  },
  {
   "cell_type": "code",
   "execution_count": 8,
   "id": "56ec2a22-b091-4a0c-871f-50cea5c1f0f7",
   "metadata": {},
   "outputs": [
    {
     "data": {
      "text/plain": [
       "<HDF5 dataset \"ColumnAmountNO2TropCloudScreened\": shape (720, 1440), type \"<f4\">"
      ]
     },
     "execution_count": 8,
     "metadata": {},
     "output_type": "execute_result"
    }
   ],
   "source": [
    "df = dataset.require_dataset('/HDFEOS/GRIDS/ColumnAmountNO2/Data Fields/ColumnAmountNO2TropCloudScreened',shape=(720,1440),dtype='float32')\n",
    "df"
   ]
  },
  {
   "cell_type": "code",
   "execution_count": 9,
   "id": "7152e948-584e-4f4d-a98f-ea43948b4936",
   "metadata": {},
   "outputs": [
    {
     "data": {
      "text/plain": [
       "array([[-1.2676506e+30, -1.2676506e+30, -1.2676506e+30, ...,\n",
       "        -1.2676506e+30, -1.2676506e+30, -1.2676506e+30],\n",
       "       [-1.2676506e+30, -1.2676506e+30, -1.2676506e+30, ...,\n",
       "        -1.2676506e+30, -1.2676506e+30, -1.2676506e+30],\n",
       "       [-1.2676506e+30, -1.2676506e+30, -1.2676506e+30, ...,\n",
       "        -1.2676506e+30, -1.2676506e+30, -1.2676506e+30],\n",
       "       ...,\n",
       "       [-1.2676506e+30, -1.2676506e+30, -1.2676506e+30, ...,\n",
       "        -1.2676506e+30, -1.2676506e+30, -1.2676506e+30],\n",
       "       [-1.2676506e+30, -1.2676506e+30, -1.2676506e+30, ...,\n",
       "        -1.2676506e+30, -1.2676506e+30, -1.2676506e+30],\n",
       "       [-1.2676506e+30, -1.2676506e+30, -1.2676506e+30, ...,\n",
       "        -1.2676506e+30, -1.2676506e+30, -1.2676506e+30]], dtype=float32)"
      ]
     },
     "execution_count": 9,
     "metadata": {},
     "output_type": "execute_result"
    }
   ],
   "source": [
    "import numpy as np\n",
    "matrix = np.array(df)\n",
    "matrix"
   ]
  }
 ],
 "metadata": {
  "kernelspec": {
   "display_name": "Python 3 (ipykernel)",
   "language": "python",
   "name": "python3"
  },
  "language_info": {
   "codemirror_mode": {
    "name": "ipython",
    "version": 3
   },
   "file_extension": ".py",
   "mimetype": "text/x-python",
   "name": "python",
   "nbconvert_exporter": "python",
   "pygments_lexer": "ipython3",
   "version": "3.11.3"
  }
 },
 "nbformat": 4,
 "nbformat_minor": 5
}
